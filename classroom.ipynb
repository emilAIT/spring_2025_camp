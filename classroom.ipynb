{
 "cells": [
  {
   "cell_type": "code",
   "execution_count": 68,
   "metadata": {},
   "outputs": [
    {
     "name": "stdout",
     "output_type": "stream",
     "text": [
      "1 <class 'int'>\n",
      "emil <class 'str'>\n",
      "True <class 'bool'>\n",
      "1.45 <class 'float'>\n"
     ]
    }
   ],
   "source": [
    "a = 1\n",
    "print(a, type(a))\n",
    "b = a\n",
    "\n",
    "a = \"emil\"\n",
    "print(a, type(a))\n",
    "a = True\n",
    "print(a, type(a))\n",
    "a = 1.45\n",
    "print(a, type(a))\n"
   ]
  },
  {
   "cell_type": "code",
   "execution_count": 69,
   "metadata": {},
   "outputs": [
    {
     "name": "stdout",
     "output_type": "stream",
     "text": [
      "[1, 2, 4] <class 'list'>\n",
      "[1, 2, 4]\n",
      "[8, 2, 4]\n",
      "[8, 2, 4]\n"
     ]
    }
   ],
   "source": [
    "a = [1, 2, 4]\n",
    "print(a, type(a))\n",
    "b = a\n",
    "print(b)\n",
    "a[0] = 8\n",
    "print(a)\n",
    "print(b)\n"
   ]
  },
  {
   "cell_type": "code",
   "execution_count": 70,
   "metadata": {},
   "outputs": [
    {
     "name": "stdout",
     "output_type": "stream",
     "text": [
      "emil emil\n",
      "10 emil\n"
     ]
    }
   ],
   "source": [
    "\n",
    "a = \"emil\"\n",
    "b = a\n",
    "print(a, b)\n",
    "a = 10\n",
    "print(a, b)\n"
   ]
  },
  {
   "cell_type": "code",
   "execution_count": 71,
   "metadata": {},
   "outputs": [
    {
     "name": "stdout",
     "output_type": "stream",
     "text": [
      "[1, 4, 9] [1, 4, 9]\n",
      "[1, 'emil', 9] [1, 4, 9]\n"
     ]
    }
   ],
   "source": [
    "a = [1, 4, 9]\n",
    "b = a.copy()\n",
    "print(a, b)\n",
    "a[1] = \"emil\"\n",
    "print(a, b)"
   ]
  },
  {
   "cell_type": "code",
   "execution_count": 72,
   "metadata": {},
   "outputs": [],
   "source": [
    "a = [1000, 500, 300]"
   ]
  },
  {
   "cell_type": "code",
   "execution_count": 73,
   "metadata": {},
   "outputs": [
    {
     "name": "stdout",
     "output_type": "stream",
     "text": [
      " <class 'str'>\n"
     ]
    },
    {
     "ename": "ValueError",
     "evalue": "invalid literal for int() with base 10: ''",
     "output_type": "error",
     "traceback": [
      "\u001b[1;31m---------------------------------------------------------------------------\u001b[0m",
      "\u001b[1;31mValueError\u001b[0m                                Traceback (most recent call last)",
      "Cell \u001b[1;32mIn[73], line 3\u001b[0m\n\u001b[0;32m      1\u001b[0m a \u001b[38;5;241m=\u001b[39m \u001b[38;5;28minput\u001b[39m(\u001b[38;5;124m\"\u001b[39m\u001b[38;5;124mvedite sifru:\u001b[39m\u001b[38;5;124m\"\u001b[39m)\n\u001b[0;32m      2\u001b[0m \u001b[38;5;28mprint\u001b[39m(a, \u001b[38;5;28mtype\u001b[39m(a))\n\u001b[1;32m----> 3\u001b[0m b \u001b[38;5;241m=\u001b[39m \u001b[38;5;28;43mint\u001b[39;49m\u001b[43m(\u001b[49m\u001b[43ma\u001b[49m\u001b[43m)\u001b[49m\n\u001b[0;32m      4\u001b[0m \u001b[38;5;28mprint\u001b[39m(b, \u001b[38;5;28mtype\u001b[39m(b))\n\u001b[0;32m      5\u001b[0m \u001b[38;5;28mprint\u001b[39m(a \u001b[38;5;241m*\u001b[39m \u001b[38;5;241m5\u001b[39m)\n",
      "\u001b[1;31mValueError\u001b[0m: invalid literal for int() with base 10: ''"
     ]
    }
   ],
   "source": [
    "a = input(\"vedite sifru:\")\n",
    "print(a, type(a))\n",
    "b = int(a)\n",
    "print(b, type(b))\n",
    "print(a * 5)\n",
    "print(b * 5)\n"
   ]
  },
  {
   "cell_type": "code",
   "execution_count": null,
   "metadata": {},
   "outputs": [
    {
     "name": "stdout",
     "output_type": "stream",
     "text": [
      "1 <class 'int'>\n",
      "1.0 <class 'float'>\n"
     ]
    }
   ],
   "source": [
    "a = 1\n",
    "print(a, type(a))\n",
    "b = float(a)\n",
    "print(b, type(b))"
   ]
  },
  {
   "cell_type": "code",
   "execution_count": null,
   "metadata": {},
   "outputs": [
    {
     "ename": "ValueError",
     "evalue": "invalid literal for int() with base 10: '13a'",
     "output_type": "error",
     "traceback": [
      "\u001b[1;31m---------------------------------------------------------------------------\u001b[0m",
      "\u001b[1;31mValueError\u001b[0m                                Traceback (most recent call last)",
      "Cell \u001b[1;32mIn[26], line 2\u001b[0m\n\u001b[0;32m      1\u001b[0m a \u001b[38;5;241m=\u001b[39m \u001b[38;5;124m\"\u001b[39m\u001b[38;5;124m13a\u001b[39m\u001b[38;5;124m\"\u001b[39m\n\u001b[1;32m----> 2\u001b[0m b \u001b[38;5;241m=\u001b[39m \u001b[38;5;28;43mint\u001b[39;49m\u001b[43m(\u001b[49m\u001b[43ma\u001b[49m\u001b[43m)\u001b[49m\n\u001b[0;32m      3\u001b[0m \u001b[38;5;28mprint\u001b[39m(b \u001b[38;5;241m*\u001b[39m \u001b[38;5;241m10\u001b[39m)\n",
      "\u001b[1;31mValueError\u001b[0m: invalid literal for int() with base 10: '13a'"
     ]
    }
   ],
   "source": [
    "a = \"13a\"\n",
    "b = int(a)\n",
    "print(b * 10)"
   ]
  },
  {
   "cell_type": "code",
   "execution_count": null,
   "metadata": {},
   "outputs": [
    {
     "name": "stdout",
     "output_type": "stream",
     "text": [
      "11\n"
     ]
    }
   ],
   "source": [
    "a = 10\n",
    "b = 20\n",
    "if a > b:\n",
    "    c = a * b \n",
    "else:\n",
    "    c = a + 1\n",
    "\n",
    "print(c)"
   ]
  },
  {
   "cell_type": "code",
   "execution_count": null,
   "metadata": {},
   "outputs": [
    {
     "name": "stdout",
     "output_type": "stream",
     "text": [
      "altinay=500, aydar=1000, emil=300, timur=1500, ulan=600\n",
      "u emil (300) netu dostatochno summi  500\n",
      "emil->timur: 500\n",
      "altinay=500, aydar=1000, emil=300, timur=1500, ulan=600\n",
      "transaction status =  False\n"
     ]
    }
   ],
   "source": [
    "sredniy = 500\n",
    "aydar = 1000\n",
    "emil = 300\n",
    "timur = 1500\n",
    "ulan = 600\n",
    "print(f'altinay={sredniy}, aydar={aydar}, emil={emil}, timur={timur}, ulan={ulan}')\n",
    "\n",
    "otpravitel = input('Kto otpravitel: ')\n",
    "poluchatel = input(\"Kto poluchatel: \")\n",
    "summa = int(input(\"summa: \"))\n",
    "\n",
    "if otpravitel == 'altinay':\n",
    "    if sredniy < summa:\n",
    "        print(f'u altinay ({sredniy}) netu dostatochno summi ', summa)\n",
    "        transaksia = False\n",
    "    else:\n",
    "        sredniy = sredniy - summa\n",
    "        transaksia = True\n",
    "elif otpravitel == \"aydar\":\n",
    "    if aydar < summa:\n",
    "        transaksia = False\n",
    "        print(f'u aydar ({aydar}) netu dostatochno summi ', summa)\n",
    "    else:\n",
    "        aydar -= summa\n",
    "        transaksia = True\n",
    "elif otpravitel == \"emil\":\n",
    "    if emil < summa:\n",
    "        transaksia = False\n",
    "        print(f'u emil ({emil}) netu dostatochno summi ', summa)\n",
    "    else:\n",
    "        emil -= summa\n",
    "        transaksia = True\n",
    "elif otpravitel == \"timur\":\n",
    "    if timur < summa:\n",
    "        transaksia = False\n",
    "        print(f'u timur ({timur}) netu dostatochno summi ', summa)\n",
    "    else:\n",
    "        timur -= summa\n",
    "        transaksia = True\n",
    "elif otpravitel == \"ulan\":\n",
    "    if ulan < summa:\n",
    "        transaksia = False\n",
    "        print(f'u ulan ({ulan}) netu dostatochno summi ', summa)\n",
    "    else:\n",
    "        ulan -= summa\n",
    "        transaksia = True\n",
    "else:\n",
    "    transaksia = False\n",
    "    print(otpravitel, \" netu takogo klienta dlya otpravitelya\")\n",
    "\n",
    "if transaksia == True:\n",
    "    if poluchatel == 'altinay':\n",
    "        sredniy = sredniy + summa\n",
    "    elif poluchatel == \"aydar\":\n",
    "        aydar += summa\n",
    "    elif poluchatel == \"emil\":\n",
    "        emil += summa\n",
    "    elif poluchatel == \"timur\":\n",
    "        timur += summa\n",
    "    elif poluchatel == \"ulan\":\n",
    "        ulan += summa\n",
    "    else:\n",
    "        print(poluchatel, \" netu takogo klienta dlya poluchatelya\")\n",
    "\n",
    "print(f'{otpravitel}->{poluchatel}: {summa}')\n",
    "print(f'altinay={sredniy}, aydar={aydar}, emil={emil}, timur={timur}, ulan={ulan}')\n",
    "print('transaction status = ', transaksia)"
   ]
  },
  {
   "cell_type": "code",
   "execution_count": null,
   "metadata": {},
   "outputs": [
    {
     "data": {
      "text/plain": [
       "1000"
      ]
     },
     "execution_count": 36,
     "metadata": {},
     "output_type": "execute_result"
    }
   ],
   "source": [
    "1500 - int(\"500\")"
   ]
  },
  {
   "cell_type": "code",
   "execution_count": null,
   "metadata": {},
   "outputs": [],
   "source": []
  },
  {
   "cell_type": "markdown",
   "metadata": {},
   "source": [
    "## 15.02.2025"
   ]
  },
  {
   "cell_type": "code",
   "execution_count": null,
   "metadata": {},
   "outputs": [
    {
     "name": "stdout",
     "output_type": "stream",
     "text": [
      "altinay=4800, aydar=1000, emil=300, timur=1500, ulan=600\n"
     ]
    }
   ],
   "source": [
    "sredniy = 500\n",
    "aydar = 1000\n",
    "emil = 300\n",
    "timur = 1500\n",
    "ulan = 600\n",
    "print(f'altinay={sredniy*10-200}, aydar={aydar}, emil={emil}, timur={timur}, ulan={ulan}')"
   ]
  },
  {
   "cell_type": "code",
   "execution_count": null,
   "metadata": {},
   "outputs": [
    {
     "name": "stdout",
     "output_type": "stream",
     "text": [
      "60 70 90 65 85\n"
     ]
    }
   ],
   "source": [
    "e1_1 = 60\n",
    "e1_2 = 70\n",
    "e1_3 = 90\n",
    "f1 = 65\n",
    "p1 = 85\n",
    "\n",
    "print(e1_1, e1_2, e1_3, f1, p1)"
   ]
  },
  {
   "cell_type": "code",
   "execution_count": null,
   "metadata": {},
   "outputs": [
    {
     "name": "stdout",
     "output_type": "stream",
     "text": [
      "60 70 90 65 85\n"
     ]
    }
   ],
   "source": [
    "e1_1, e1_2, e1_3, f1, p1 = 60, 70, 90, 65, 85\n",
    "print(e1_1, e1_2, e1_3, f1, p1)"
   ]
  },
  {
   "cell_type": "code",
   "execution_count": null,
   "metadata": {},
   "outputs": [
    {
     "ename": "TypeError",
     "evalue": "cannot unpack non-iterable int object",
     "output_type": "error",
     "traceback": [
      "\u001b[1;31m---------------------------------------------------------------------------\u001b[0m",
      "\u001b[1;31mTypeError\u001b[0m                                 Traceback (most recent call last)",
      "Cell \u001b[1;32mIn[8], line 1\u001b[0m\n\u001b[1;32m----> 1\u001b[0m a, b \u001b[38;5;241m=\u001b[39m \u001b[38;5;241m10\u001b[39m\n",
      "\u001b[1;31mTypeError\u001b[0m: cannot unpack non-iterable int object"
     ]
    }
   ],
   "source": [
    "a, b = 10"
   ]
  },
  {
   "cell_type": "code",
   "execution_count": null,
   "metadata": {},
   "outputs": [
    {
     "ename": "ValueError",
     "evalue": "too many values to unpack (expected 2)",
     "output_type": "error",
     "traceback": [
      "\u001b[1;31m---------------------------------------------------------------------------\u001b[0m",
      "\u001b[1;31mValueError\u001b[0m                                Traceback (most recent call last)",
      "Cell \u001b[1;32mIn[9], line 1\u001b[0m\n\u001b[1;32m----> 1\u001b[0m a, b \u001b[38;5;241m=\u001b[39m \u001b[38;5;241m1\u001b[39m, \u001b[38;5;241m2\u001b[39m, \u001b[38;5;241m3\u001b[39m\n",
      "\u001b[1;31mValueError\u001b[0m: too many values to unpack (expected 2)"
     ]
    }
   ],
   "source": [
    "a, b = 1, 2, 3"
   ]
  },
  {
   "cell_type": "code",
   "execution_count": null,
   "metadata": {},
   "outputs": [
    {
     "name": "stdout",
     "output_type": "stream",
     "text": [
      "aydar= 76.25 otsentka=4\n"
     ]
    }
   ],
   "source": [
    "e1_1, e1_2, e1_3, f1, p1 = 90, 90, 95, 100, 0\n",
    "aydar = (e1_1 + e1_2 + e1_3)/3 * 0.45  + f1 * 0.35 + p1 * 0.2\n",
    "\n",
    "print('aydar=', aydar, \"otsentka=\", end='')\n",
    "if 0 <= aydar < 40:\n",
    "    print(2)\n",
    "elif 40 <= aydar < 50:\n",
    "    print(\"3-\")\n",
    "elif 50 <= aydar < 60:\n",
    "    print(\"3\")\n",
    "elif 60 <= aydar < 70:\n",
    "    print(\"4-\")\n",
    "elif 70 <= aydar < 80:\n",
    "    print(\"4\")\n",
    "elif 80 <= aydar < 90:\n",
    "    print(\"5-\")\n",
    "elif 90 <= aydar <= 100:\n",
    "    print(\"5\")\n",
    "else:\n",
    "    print('oshibka')"
   ]
  },
  {
   "cell_type": "code",
   "execution_count": null,
   "metadata": {},
   "outputs": [
    {
     "name": "stdout",
     "output_type": "stream",
     "text": [
      "altinay= 72.75 otsentka=4\n"
     ]
    }
   ],
   "source": [
    "\n",
    "\n",
    "e1_1, e1_2, e1_3, f1, p1 = 60, 70, 90, 65, 85\n",
    "sredniy = (e1_1 + e1_2 + e1_3)/3 * 0.45  + f1 * 0.35 + p1 * 0.2\n",
    "\n",
    "print('altinay=', sredniy, \"otsentka=\", end='')\n",
    "if 0 <= sredniy < 40:\n",
    "    print(2)\n",
    "elif 40 <= sredniy < 50:\n",
    "    print(\"3-\")\n",
    "elif 50 <= sredniy < 60:\n",
    "    print(\"3\")\n",
    "elif 60 <= sredniy < 70:\n",
    "    print(\"4-\")\n",
    "elif 70 <= sredniy < 80:\n",
    "    print(\"4\")\n",
    "elif 80 <= sredniy < 90:\n",
    "    print(\"5-\")\n",
    "elif 90 <= sredniy <= 100:\n",
    "    print(\"5\")\n",
    "else:\n",
    "    print('oshibka')"
   ]
  },
  {
   "cell_type": "code",
   "execution_count": null,
   "metadata": {},
   "outputs": [
    {
     "name": "stdout",
     "output_type": "stream",
     "text": [
      "horosho\n"
     ]
    }
   ],
   "source": [
    "a = 0\n",
    "\n",
    "if 0 <= a <= 20:\n",
    "    print('horosho')\n",
    "else:\n",
    "    print('ploho')\n"
   ]
  },
  {
   "cell_type": "code",
   "execution_count": null,
   "metadata": {},
   "outputs": [],
   "source": [
    "def bishkek(osh):\n",
    "    talas = 3 * osh **2 + 4 * osh + 25\n"
   ]
  },
  {
   "cell_type": "code",
   "execution_count": null,
   "metadata": {},
   "outputs": [
    {
     "name": "stdout",
     "output_type": "stream",
     "text": [
      "25\n",
      "32\n",
      "45\n",
      "64\n",
      "89\n"
     ]
    }
   ],
   "source": [
    "x = 0\n",
    "print(3 * x ** 2 + 4 * x  + 25)\n",
    "x = 1\n",
    "print(3 * x **2 + 4 * x + 25)\n",
    "x = 2\n",
    "print(3 * x ** 2 + 4 * x + 25)\n",
    "x = 3\n",
    "print(3 * x ** 2+ 4 * x + 25)\n",
    "x = 4\n",
    "print(3 * x **2 + 4 * x  + 25)"
   ]
  },
  {
   "cell_type": "code",
   "execution_count": null,
   "metadata": {},
   "outputs": [
    {
     "name": "stdout",
     "output_type": "stream",
     "text": [
      "None\n",
      "None\n",
      "None\n",
      "None\n",
      "None\n"
     ]
    }
   ],
   "source": [
    "print(bishkek(0))\n",
    "print(bishkek(1))\n",
    "print(bishkek(2))\n",
    "print(bishkek(3))\n",
    "print(bishkek(4))"
   ]
  },
  {
   "cell_type": "code",
   "execution_count": null,
   "metadata": {},
   "outputs": [],
   "source": [
    "def obmenka(dollar):\n",
    "    som = dollar * 87.45"
   ]
  },
  {
   "cell_type": "code",
   "execution_count": null,
   "metadata": {},
   "outputs": [],
   "source": [
    "\n",
    "obmenka(1500)"
   ]
  },
  {
   "cell_type": "code",
   "execution_count": null,
   "metadata": {},
   "outputs": [],
   "source": [
    "dollar_pokupka = 84.7\n",
    "dollar_prodaja = 85.0\n",
    "\n",
    "rubl_pokupka = 0.90\n",
    "rubl_prodaja = 1.06\n",
    "\n",
    "euro_pokupka = 91\n",
    "euro_prodaja = 93\n",
    "\n",
    "def somToDollar(amount):\n",
    "    return amount / dollar_prodaja\n",
    "\n",
    "def dollarToSom(amount):\n",
    "    return amount * dollar_pokupka\n",
    "\n",
    "def somToEuro(amount):\n",
    "    return amount / euro_prodaja\n",
    "\n",
    "def euroToSom(amount):\n",
    "    return amount * euro_pokupka\n",
    "\n",
    "def rublToSom(amount):\n",
    "    return amount * rubl_pokupka\n",
    "\n",
    "def somToRubl(amount):\n",
    "    return amount / rubl_prodaja\n"
   ]
  },
  {
   "cell_type": "code",
   "execution_count": null,
   "metadata": {},
   "outputs": [
    {
     "data": {
      "text/plain": [
       "943.3962264150942"
      ]
     },
     "execution_count": 68,
     "metadata": {},
     "output_type": "execute_result"
    }
   ],
   "source": [
    "somToRubl(1000)"
   ]
  },
  {
   "cell_type": "code",
   "execution_count": null,
   "metadata": {},
   "outputs": [
    {
     "name": "stdout",
     "output_type": "stream",
     "text": [
      "1000 900.0 10.588235294117647\n"
     ]
    }
   ],
   "source": [
    "som = rublToSom(1000)\n",
    "dollar = somToDollar(som)\n",
    "print(1000, som, dollar)"
   ]
  },
  {
   "cell_type": "code",
   "execution_count": null,
   "metadata": {},
   "outputs": [
    {
     "data": {
      "text/plain": [
       "10.588235294117647"
      ]
     },
     "execution_count": 70,
     "metadata": {},
     "output_type": "execute_result"
    }
   ],
   "source": [
    "somToDollar(rublToSom(1000))"
   ]
  },
  {
   "cell_type": "code",
   "execution_count": null,
   "metadata": {},
   "outputs": [
    {
     "name": "stdout",
     "output_type": "stream",
     "text": [
      "79905.66037735848\n"
     ]
    }
   ],
   "source": [
    "som = dollarToSom(1000)\n",
    "rubl = somToRubl(som)\n",
    "print(rubl)"
   ]
  },
  {
   "cell_type": "code",
   "execution_count": null,
   "metadata": {},
   "outputs": [
    {
     "data": {
      "text/plain": [
       "79905.66037735848"
      ]
     },
     "execution_count": 73,
     "metadata": {},
     "output_type": "execute_result"
    }
   ],
   "source": [
    "somToRubl(dollarToSom(1000))"
   ]
  },
  {
   "cell_type": "code",
   "execution_count": null,
   "metadata": {},
   "outputs": [
    {
     "data": {
      "text/plain": [
       "799056.6037735848"
      ]
     },
     "execution_count": 74,
     "metadata": {},
     "output_type": "execute_result"
    }
   ],
   "source": [
    "skolko = 10000\n",
    "somToRubl(dollarToSom(skolko))"
   ]
  },
  {
   "cell_type": "code",
   "execution_count": null,
   "metadata": {},
   "outputs": [],
   "source": [
    "\n",
    "def studentGrade1(e1_1, e1_2, e1_3, f1, p1):\n",
    "    sredniy = (e1_1 + e1_2 + e1_3)/3 * 0.45  + f1 * 0.35 + p1 * 0.2\n",
    "    \n",
    "    if 0 <= sredniy < 40:\n",
    "        return 2, sredniy, (e1_1 + e1_2 + e1_3)/3\n",
    "    elif 40 <= sredniy < 50:\n",
    "        return \"3-\", sredniy, (e1_1 + e1_2 + e1_3)/3\n",
    "    elif 50 <= sredniy < 60:\n",
    "        return \"3\", sredniy, (e1_1 + e1_2 + e1_3)/3\n",
    "    elif 60 <= sredniy < 70:\n",
    "        return \"4-\", sredniy, (e1_1 + e1_2 + e1_3)/3\n",
    "    elif 70 <= sredniy < 80:\n",
    "        return \"4\", sredniy, (e1_1 + e1_2 + e1_3)/3\n",
    "    elif 80 <= sredniy < 90:\n",
    "        return \"5-\", sredniy, (e1_1 + e1_2 + e1_3)/3\n",
    "    elif 90 <= sredniy <= 100:\n",
    "        return \"5\", sredniy, (e1_1 + e1_2 + e1_3)/3\n",
    "    else:\n",
    "        return 'oshibka'"
   ]
  },
  {
   "cell_type": "code",
   "execution_count": null,
   "metadata": {},
   "outputs": [
    {
     "data": {
      "text/plain": [
       "('4', 79.95, 71.66666666666667, 28.7)"
      ]
     },
     "execution_count": 101,
     "metadata": {},
     "output_type": "execute_result"
    }
   ],
   "source": [
    "studentGrade(70, 90, 55, 82, 95)"
   ]
  },
  {
   "cell_type": "code",
   "execution_count": null,
   "metadata": {},
   "outputs": [
    {
     "data": {
      "text/plain": [
       "71.66666666666667"
      ]
     },
     "execution_count": 102,
     "metadata": {},
     "output_type": "execute_result"
    }
   ],
   "source": [
    "(70 + 90 + 55) / 3"
   ]
  },
  {
   "cell_type": "code",
   "execution_count": null,
   "metadata": {},
   "outputs": [],
   "source": [
    "\n",
    "def studentGrade2(exam1, exam2, exam3, final, project):\n",
    "    sredniy = (exam1+exam2+exam3)/3 * 0.45  + final * 0.35 + project * 0.2\n",
    "    \n",
    "    otsenka = 0\n",
    "    if 0 <= sredniy < 40:\n",
    "        otsenka = 2\n",
    "    elif 40 <= sredniy < 50:\n",
    "        otsenka = \"3-\"\n",
    "    elif 50 <= sredniy < 60:\n",
    "        otsenka = \"3\"\n",
    "    elif 60 <= sredniy < 70:\n",
    "        otsenka = \"4-\"\n",
    "    elif 70 <= sredniy < 80:\n",
    "        otsenka = \"4\"\n",
    "    elif 80 <= sredniy < 90:\n",
    "        otsenka = \"5-\"\n",
    "    elif 90 <= sredniy <= 100:\n",
    "        otsenka = \"5\"\n",
    "    else:\n",
    "        return 'oshibka'\n",
    "\n",
    "    return otsenka"
   ]
  },
  {
   "cell_type": "code",
   "execution_count": null,
   "metadata": {},
   "outputs": [
    {
     "name": "stdout",
     "output_type": "stream",
     "text": [
      "4\n",
      "('4', 79.95, 71.66666666666667)\n"
     ]
    }
   ],
   "source": [
    "print(studentGrade2(70, 90, 55, 82, 95))\n",
    "print(studentGrade1(70, 90, 55, 82, 95))\n",
    "\n"
   ]
  },
  {
   "cell_type": "code",
   "execution_count": null,
   "metadata": {},
   "outputs": [],
   "source": [
    "def f(x):\n",
    "    # 3 * x ** 2 + 4 * x + 44\n",
    "    kvadrat = 3 * x**2\n",
    "    vtoroy = 4 * x\n",
    "    konstanta = 44\n",
    "    return kvadrat + vtoroy + konstanta, kvadrat, vtoroy, konstanta"
   ]
  },
  {
   "cell_type": "code",
   "execution_count": null,
   "metadata": {},
   "outputs": [
    {
     "name": "stdout",
     "output_type": "stream",
     "text": [
      "48 16 44\n",
      "108 108\n"
     ]
    }
   ],
   "source": [
    "a, b, c, d = f(x=4)\n",
    "print(b, c, d)\n",
    "print(a, b+c+d)"
   ]
  },
  {
   "cell_type": "code",
   "execution_count": null,
   "metadata": {},
   "outputs": [
    {
     "data": {
      "text/plain": [
       "(384, 300, 40, 44)"
      ]
     },
     "execution_count": 108,
     "metadata": {},
     "output_type": "execute_result"
    }
   ],
   "source": [
    "f(x=10)"
   ]
  },
  {
   "cell_type": "code",
   "execution_count": null,
   "metadata": {},
   "outputs": [],
   "source": [
    "def emil(a, b, c):\n",
    "    return a/b/c"
   ]
  },
  {
   "cell_type": "code",
   "execution_count": null,
   "metadata": {},
   "outputs": [
    {
     "data": {
      "text/plain": [
       "0.016666666666666666"
      ]
     },
     "execution_count": 114,
     "metadata": {},
     "output_type": "execute_result"
    }
   ],
   "source": [
    "emil(10, 20,30)"
   ]
  },
  {
   "cell_type": "code",
   "execution_count": null,
   "metadata": {},
   "outputs": [
    {
     "data": {
      "text/plain": [
       "0.016666666666666666"
      ]
     },
     "execution_count": 116,
     "metadata": {},
     "output_type": "execute_result"
    }
   ],
   "source": [
    "emil(b = 20, a = 10, c = 30)"
   ]
  },
  {
   "cell_type": "code",
   "execution_count": null,
   "metadata": {},
   "outputs": [
    {
     "name": "stdout",
     "output_type": "stream",
     "text": [
      "{'emil': 1000, 'timur': 2000, 'sultan': 3000, 'aziz': 1800}\n",
      "{'emil': 1000, 'timur': 2000, 'sultan': 3000, 'aziz': 1800, '01': 'ait'}\n",
      "{'timur': 2000, 'sultan': 3000, 'aziz': 1800, '01': 'ait'}\n"
     ]
    }
   ],
   "source": [
    "d = {\"emil\": 1000, \"timur\": 2000, \"sultan\": 3000, \"aziz\": 1800}\n",
    "print(d)\n",
    "d[\"01\"] = \"ait\"\n",
    "print(d)\n",
    "del d[\"emil\"]\n",
    "print(d)"
   ]
  },
  {
   "cell_type": "code",
   "execution_count": null,
   "metadata": {},
   "outputs": [
    {
     "name": "stdout",
     "output_type": "stream",
     "text": [
      "{'emil': 1000, 'timur': 2000, 'sultan': 3000, 'aziz': 1800}\n",
      "{'emil': 1000, 'timur': 1800, 'sultan': 3200, 'aziz': 1800}\n",
      "{'emil': 1000, 'timur': 1800, 'sultan': 3200, 'aziz': 1800, 'aydar': 1500}\n"
     ]
    }
   ],
   "source": [
    "\n",
    "d = {\"emil\": 1000, \"timur\": 2000, \"sultan\": 3000, \"aziz\": 1800}\n",
    "print(d)\n",
    "kto = input(\"kto\")\n",
    "komu = input(\"komu\")\n",
    "skolko = int(input(\"skolko\"))\n",
    "\n",
    "d[kto] -= skolko\n",
    "d[komu] += skolko\n",
    "print(d)\n",
    "\n",
    "d[\"aydar\"] = 1500\n",
    "print(d)"
   ]
  },
  {
   "cell_type": "code",
   "execution_count": null,
   "metadata": {},
   "outputs": [],
   "source": [
    "d = {}\n",
    "\n",
    "def transfer(kto, komu, skolko):\n",
    "    d[kto] -= skolko\n",
    "    d[komu] += skolko\n",
    "    return d\n",
    "\n",
    "def add(kto, balance):\n",
    "    d[kto] = balance\n",
    "    return d"
   ]
  },
  {
   "cell_type": "code",
   "execution_count": null,
   "metadata": {},
   "outputs": [
    {
     "name": "stdout",
     "output_type": "stream",
     "text": [
      "{'emil': 1000}\n",
      "{'emil': 1000, 'sultan': 1500}\n",
      "{'emil': 1000, 'sultan': 1500, 'aziz': 2000}\n",
      "{'emil': 500, 'sultan': 2000, 'aziz': 2000}\n"
     ]
    }
   ],
   "source": [
    "add(\"emil\", 1000)\n",
    "print(d)\n",
    "add(\"sultan\", 1500)\n",
    "print(d)\n",
    "add(\"aziz\", 2000)\n",
    "\n",
    "print(d)\n",
    "\n",
    "transfer(\"emil\", \"sultan\", 500)\n",
    "print(d)"
   ]
  },
  {
   "cell_type": "code",
   "execution_count": null,
   "metadata": {},
   "outputs": [
    {
     "name": "stdout",
     "output_type": "stream",
     "text": [
      "{'emil': 500, 'sultan': 400, 'aziz': 3600}\n"
     ]
    }
   ],
   "source": [
    "transfer(kto=\"sultan\", komu='aziz', skolko=800)\n",
    "print(d)"
   ]
  },
  {
   "cell_type": "code",
   "execution_count": null,
   "metadata": {},
   "outputs": [
    {
     "name": "stdout",
     "output_type": "stream",
     "text": [
      "19\n",
      "18\n",
      "2\n"
     ]
    }
   ],
   "source": [
    "from random import randint\n",
    "for i in range(3):\n",
    "    print(randint(0, 100))"
   ]
  },
  {
   "cell_type": "code",
   "execution_count": null,
   "metadata": {},
   "outputs": [
    {
     "name": "stdout",
     "output_type": "stream",
     "text": [
      "378\n",
      "178\n",
      "576\n"
     ]
    }
   ],
   "source": [
    "import random\n",
    "for i in range(3):\n",
    "    print(random.randint(0, 1000))"
   ]
  },
  {
   "cell_type": "code",
   "execution_count": null,
   "metadata": {},
   "outputs": [
    {
     "name": "stdout",
     "output_type": "stream",
     "text": [
      "134567,2,3,4,5,6\n",
      "['134567', '2', '3', '4', '5', '6']\n"
     ]
    }
   ],
   "source": [
    "a = \"134567,2,3,4,5,6\"\n",
    "print(a)\n",
    "print(a.split(','))"
   ]
  },
  {
   "cell_type": "code",
   "execution_count": 75,
   "metadata": {},
   "outputs": [
    {
     "name": "stdout",
     "output_type": "stream",
     "text": [
      "0 0\n",
      "25500 25500\n",
      "9360 34860\n",
      "19380 54240\n",
      "5831 60071\n",
      "18600 78671\n",
      "28050 106721\n",
      "16560 123281\n",
      "14760 138041\n",
      "35760 173801\n",
      "20150 193951\n",
      "2200 196151\n",
      "9620 205771\n",
      "8880 214651\n",
      "12220 226871\n",
      "21276 248147\n",
      "13780 261927\n",
      "31700 293627\n",
      "6000 299627\n",
      "19700 319327\n",
      "5472 324799\n",
      "4164 328963\n",
      "13332 342295\n",
      "12000 354295\n",
      "13688 367983\n",
      "9840 377823\n",
      "9135 386958\n",
      "6120 393078\n",
      "6741 399819\n",
      "10638 410457\n",
      "9456 419913\n",
      "5680 425593\n",
      "33414 459007\n",
      "1346 460353\n",
      "8610 468963\n",
      "5980 474943\n",
      "3660 478603\n",
      "5100 483703\n",
      "5100 488803\n",
      "9000 497803\n",
      "2364 500167\n",
      "2160 502327\n",
      "3750 506077\n",
      "2760 508837\n",
      "566 509403\n",
      "2764 512167\n",
      "12686 524853\n",
      "6600 531453\n",
      "-21546 509907\n",
      "2068 511975\n",
      "0 511975\n",
      "6000 517975\n",
      "12000 529975\n",
      "-15000 514975\n",
      "745 515720\n",
      "515720\n"
     ]
    }
   ],
   "source": [
    "from csv import reader\n",
    "file = open('payments3.csv', encoding='utf-8')\n",
    "a = reader(file)\n",
    "data = next(a)\n",
    "total = {}\n",
    "dates = {}\n",
    "for i in a:\n",
    "    id = i[2]\n",
    "    amount = int(i[1].replace(',',''))\n",
    "    date = i[0]\n",
    "    description = i[3]\n",
    "    if id not in total:\n",
    "        total[id] = 0\n",
    "        dates[id] = []\n",
    "\n",
    "    if len(id):\n",
    "        total[id] += amount\n",
    "        dates[id].append(date)\n",
    "\n",
    "s = 0\n",
    "from csv import reader, writer\n",
    "with open('output.csv', 'w', newline='') as outfile:\n",
    "    w = writer(outfile)\n",
    "    w.writerow('id,total,debt,dlina,dati'.split(','))\n",
    "    for id, amount in total.items():\n",
    "        #if amount > 25000:\n",
    "            w.writerow([id, amount, 5000 - amount, len(dates[id]),  dates[id]])\n",
    "            s += amount\n",
    "            print(amount, s)\n",
    "\n",
    "print(s)\n"
   ]
  },
  {
   "cell_type": "code",
   "execution_count": 12,
   "metadata": {},
   "outputs": [
    {
     "name": "stdout",
     "output_type": "stream",
     "text": [
      "Date,\"20,811\",id,Description,,eco taxi,,,,,,,,,,,,,,,,,,,,,\n",
      "\n"
     ]
    }
   ],
   "source": [
    "print(data)"
   ]
  },
  {
   "cell_type": "code",
   "execution_count": 13,
   "metadata": {},
   "outputs": [
    {
     "name": "stdout",
     "output_type": "stream",
     "text": [
      "['Date', '\"20', '811\"', 'id', 'Description', '', 'eco taxi', '', '', '', '', '', '', '', '', '', '', '', '', '', '', '', '', '', '', '', '', '\\n']\n"
     ]
    }
   ],
   "source": [
    "print(data.split(\",\"))"
   ]
  },
  {
   "cell_type": "code",
   "execution_count": 14,
   "metadata": {},
   "outputs": [
    {
     "data": {
      "text/plain": [
       "['Date,', '20,811', ',id,Description,,eco taxi,,,,,,,,,,,,,,,,,,,,,\\n']"
      ]
     },
     "execution_count": 14,
     "metadata": {},
     "output_type": "execute_result"
    }
   ],
   "source": [
    "data.split('\"')"
   ]
  },
  {
   "cell_type": "code",
   "execution_count": 36,
   "metadata": {},
   "outputs": [
    {
     "name": "stdout",
     "output_type": "stream",
     "text": [
      "5831 ['2.10.23', '5.11', '5.12', '5.01', '6.02', '5.03', '5.04']\n"
     ]
    }
   ],
   "source": [
    "print(total['3'], dates['3'])"
   ]
  },
  {
   "cell_type": "code",
   "execution_count": 63,
   "metadata": {},
   "outputs": [
    {
     "name": "stdout",
     "output_type": "stream",
     "text": [
      "[0, 1, 2, 3, 4, 5, 6, 7, 8, 9]\n"
     ]
    }
   ],
   "source": [
    "a = list(range(10))\n",
    "print(a)"
   ]
  },
  {
   "cell_type": "code",
   "execution_count": 66,
   "metadata": {},
   "outputs": [
    {
     "name": "stdout",
     "output_type": "stream",
     "text": [
      "[5, 7, 2, 6, 4, 9, 3, 0, 1, 8]\n",
      "[9, 3, 4, 5, 0, 7, 2, 1, 6, 8]\n",
      "[6, 0, 1, 3, 5, 4, 2, 7, 9, 8]\n",
      "[5, 3, 4, 6, 8, 1, 2, 9, 0, 7]\n",
      "[4, 5, 0, 9, 2, 1, 7, 8, 6, 3]\n"
     ]
    }
   ],
   "source": [
    "from random import shuffle\n",
    "\n",
    "for i in range(5):\n",
    "    shuffle(a)\n",
    "    print(a)"
   ]
  },
  {
   "cell_type": "code",
   "execution_count": null,
   "metadata": {},
   "outputs": [
    {
     "name": "stdout",
     "output_type": "stream",
     "text": [
      "[3951832, 6077253, 6322286, 1212739, 6926876, 6362149, 2671386, 5231187, 5813117, 4618498, 9763471, 2164502, 1441394, 2827915, 9506865, 2572475, 4695002, 976971, 2979484, 6280291, 4242570, 201079, 4212263, 4454839, 7121835, 9715616, 9598720, 4648439, 4921780, 4565172, 958784, 9954629, 4319974, 7440251, 2906802, 4465005, 1400636, 3654166, 9335005, 482958, 3648576, 7127660, 8753154, 7383154, 8578487, 3428737, 7648295, 323806, 6240971, 2459956, 3321769, 8504215, 1515650, 9983948, 7540370, 32725, 6335442, 768710, 8232847, 3525881, 420232, 629985, 4015732, 2086230, 9496283, 7103405, 9533235, 801076, 4657043, 3247152, 3481166, 7974045, 732238, 149308, 8260762, 4939712, 9756027, 8071418, 2958954, 6177195, 2714423, 7974050, 8284661, 9716865, 9547643, 5405230, 583106, 1834565, 1720942, 5822471, 8712463, 3790268, 5411235, 3055262, 5751807, 865529, 5653676, 3801388, 9944541, 8458995]\n"
     ]
    },
    {
     "ename": "KeyboardInterrupt",
     "evalue": "",
     "output_type": "error",
     "traceback": [
      "\u001b[1;31m---------------------------------------------------------------------------\u001b[0m",
      "\u001b[1;31mKeyboardInterrupt\u001b[0m                         Traceback (most recent call last)",
      "Cell \u001b[1;32mIn[77]\u001b[0m\n\u001b[0;32m      0\u001b[0m <Error retrieving source code with stack_data see ipython/ipython#13598>\n",
      "\u001b[1;31mKeyboardInterrupt\u001b[0m: "
     ]
    }
   ],
   "source": [
    "print(a[:100])\n",
    "for i in range(len(a)):\n",
    "    for j in range(i, len(a)):\n",
    "        if a[i] > a[j]:\n",
    "            a[i], a[j] = a[j], a[i]\n",
    "\n",
    "print(a[:100])"
   ]
  },
  {
   "cell_type": "code",
   "execution_count": null,
   "metadata": {},
   "outputs": [
    {
     "name": "stdout",
     "output_type": "stream",
     "text": [
      "[743596, 705240, 705479, 18583, 184291, 402371, 707559, 279571, 158646, 809589, 559952, 734471, 914684, 291506, 46900, 46582, 412896, 519410, 616157, 780138, 977982, 94408, 625905, 124873, 270365, 572085, 568723, 521907, 366521, 880099, 347917, 359395, 695321, 696522, 383252, 115422, 721476, 408962, 712837, 345369, 590017, 877724, 491046, 806549, 714204, 232543, 884400, 664912, 66295, 786320, 17766, 533198, 958781, 408255, 670960, 365746, 782724, 726633, 888382, 919463, 179016, 192324, 79501, 980650, 566500, 709297, 454862, 19556, 317249, 749371, 861873, 96172, 306199, 751302, 981262, 296051, 97775, 852442, 126847, 96711, 705952, 745427, 592568, 623637, 814497, 133043, 282533, 636215, 942487, 20859, 596631, 736689, 927703, 86251, 706325, 705522, 701977, 150506, 330501, 928985]\n",
      "[0, 0, 0, 1, 1, 1, 1, 1, 1, 1, 1, 2, 2, 2, 2, 2, 2, 2, 2, 2, 3, 3, 3, 3, 3, 3, 3, 3, 4, 4, 4, 4, 4, 4, 5, 5, 5, 5, 5, 5, 5, 5, 5, 5, 5, 5, 5, 5, 5, 6, 6, 6, 6, 6, 6, 7, 7, 7, 7, 7, 7, 7, 7, 7, 7, 7, 7, 8, 8, 8, 8, 8, 8, 8, 8, 8, 8, 9, 9, 9, 9, 9, 10, 10, 10, 10, 10, 10, 10, 11, 11, 11, 11, 11, 11, 11, 11, 11, 11, 11]\n"
     ]
    }
   ],
   "source": [
    "from random import randint, shuffle\n",
    "import sys\n",
    "sys.setrecursionlimit(100000)\n",
    "\n",
    "arr = list([randint(0, 1000000) for i in range(10000000)])\n",
    "\n",
    "def manas_sort(a):\n",
    "    if len(a) <= 1:\n",
    "        return a\n",
    "    p = a[randint(0, len(a)-1)]\n",
    "\n",
    "    left = []\n",
    "    right = []\n",
    "    middle = []\n",
    "    \n",
    "    for i in a:\n",
    "        if i > p:\n",
    "            right.append(i)\n",
    "        elif i < p:\n",
    "            left.append(i)\n",
    "        else:\n",
    "            middle.append(i)\n",
    "    \n",
    "    left = manas_sort(left)\n",
    "    right = manas_sort(right)\n",
    "    return left + middle + right\n",
    "\n",
    "print(arr[:100])\n",
    "x = manas_sort(arr)\n",
    "print(x[:100])\n"
   ]
  },
  {
   "cell_type": "code",
   "execution_count": null,
   "metadata": {},
   "outputs": [],
   "source": []
  },
  {
   "cell_type": "markdown",
   "metadata": {},
   "source": [
    "#"
   ]
  },
  {
   "cell_type": "markdown",
   "metadata": {},
   "source": [
    "## 02.03.2025"
   ]
  },
  {
   "cell_type": "code",
   "execution_count": null,
   "metadata": {},
   "outputs": [
    {
     "name": "stdout",
     "output_type": "stream",
     "text": [
      "result text:  \n",
      "result text:  \n",
      "result text:  \n"
     ]
    }
   ],
   "source": [
    "while True:\n",
    "    try:\n",
    "        num1 = input('number 1: ')\n",
    "        num2 = input('number 2: ')\n",
    "        print('result value: ', int(num1) + int(num2))\n",
    "    except:\n",
    "        print('result text: ', num1 + num2)\n"
   ]
  },
  {
   "cell_type": "code",
   "execution_count": 1,
   "metadata": {},
   "outputs": [],
   "source": [
    "class Student:\n",
    "    def __init__(self, imya):\n",
    "        self.name = imya\n",
    "        \n",
    "    def pokaji(self):\n",
    "        print('imya studenta ', self.name)\n",
    "    \n",
    "    def changeName(self, newName):\n",
    "        self.name = newName\n"
   ]
  },
  {
   "cell_type": "code",
   "execution_count": 5,
   "metadata": {},
   "outputs": [],
   "source": [
    "ayjan = Student(\"Ayjan\")"
   ]
  },
  {
   "cell_type": "code",
   "execution_count": 6,
   "metadata": {},
   "outputs": [
    {
     "name": "stdout",
     "output_type": "stream",
     "text": [
      "imya studenta  Ayjan\n",
      "imya studenta  Aijan\n"
     ]
    }
   ],
   "source": [
    "ayjan.pokaji()\n",
    "ayjan.changeName('Aijan')\n",
    "ayjan.pokaji()"
   ]
  },
  {
   "cell_type": "code",
   "execution_count": 10,
   "metadata": {},
   "outputs": [],
   "source": [
    "class Student:\n",
    "    def __init__(self, name):\n",
    "        self.otsenki = {}\n",
    "        self.name = name\n",
    "\n",
    "    def dobavitOtsenku(self, predmet, otsentka):\n",
    "        self.otsenki[predmet] = otsentka\n",
    "    \n",
    "    def sredniyBal1(self):\n",
    "        s = 0\n",
    "        for k, v in self.otsenki.items():\n",
    "            s += v\n",
    "        return s // len(self.otsenki)\n",
    "\n",
    "    def sredniyBal2(self):\n",
    "        return sum(self.otsenki.values()) // len(self.otsenki)\n",
    "\n",
    "    def pokajiOtsenki(self):\n",
    "        print('Imya studenta = ', self.name)\n",
    "        for k, v in self.otsenki.items():\n",
    "            print(k, v)\n",
    "        print(\"sredniy bal: \", self.sredniyBal1())\n",
    "        print(\"*\"*10)\n",
    "\n",
    "\n",
    "\n",
    "aijan = Student('Aijan')\n",
    "aijan.dobavitOtsenku(\"math\", 90)\n",
    "aijan.dobavitOtsenku(\"history\", 95)\n",
    "aijan.dobavitOtsenku(\"himya\", 50)\n",
    "\n",
    "aydar = Student('Aydar')\n",
    "aydar.dobavitOtsenku(\"math\", 80)\n",
    "aydar.dobavitOtsenku(\"history\", 55)\n",
    "aydar.dobavitOtsenku(\"himya\", 80)\n",
    "aydar.dobavitOtsenku('geografia', 60)\n",
    "\n",
    "aliya = Student('Aliya')\n",
    "aliya.dobavitOtsenku(\"math\", 80)\n",
    "aliya.dobavitOtsenku(\"history\", 70)\n",
    "aliya.dobavitOtsenku(\"himya\", 40)\n",
    "aliya.dobavitOtsenku('kirgiz tili', 100)"
   ]
  },
  {
   "cell_type": "code",
   "execution_count": 38,
   "metadata": {},
   "outputs": [
    {
     "name": "stdout",
     "output_type": "stream",
     "text": [
      "Imya studenta =  Aliya\n",
      "math 80\n",
      "history 70\n",
      "himya 40\n",
      "kirgiz tili 100\n",
      "sredniy bal:  72\n",
      "**********\n",
      "Imya studenta =  Chonaydar\n",
      "math 80\n",
      "history 55\n",
      "himya 80\n",
      "geografia 60\n",
      "sredniy bal:  68\n",
      "**********\n",
      "Imya studenta =  Aliya\n",
      "math 80\n",
      "history 70\n",
      "himya 40\n",
      "kirgiz tili 100\n",
      "sredniy bal:  72\n",
      "**********\n"
     ]
    }
   ],
   "source": [
    "aliya.pokajiOtsenki()\n",
    "aydar.pokajiOtsenki()\n",
    "aliya.pokajiOtsenki()"
   ]
  },
  {
   "cell_type": "code",
   "execution_count": 13,
   "metadata": {},
   "outputs": [],
   "source": [
    "karizdar = {}\n",
    "karizdar['emil'] = 100\n",
    "karizdar['aijan'] = 300\n",
    "karizdar['sultan'] = -700\n"
   ]
  },
  {
   "cell_type": "code",
   "execution_count": 16,
   "metadata": {},
   "outputs": [
    {
     "name": "stdout",
     "output_type": "stream",
     "text": [
      "{'emil': 100, 'aijan': 200, 'sultan': -700}\n"
     ]
    }
   ],
   "source": [
    "karizdar['aijan'] -= 100\n",
    "print(karizdar)"
   ]
  },
  {
   "cell_type": "code",
   "execution_count": 18,
   "metadata": {},
   "outputs": [
    {
     "name": "stdout",
     "output_type": "stream",
     "text": [
      "emil 100\n",
      "aijan 200\n",
      "sultan -700\n"
     ]
    }
   ],
   "source": [
    "for kluch, znachenie in karizdar.items():\n",
    "    print(kluch, znachenie)"
   ]
  },
  {
   "cell_type": "code",
   "execution_count": 17,
   "metadata": {},
   "outputs": [
    {
     "data": {
      "text/plain": [
       "dict_items([('emil', 100), ('aijan', 200), ('sultan', -700)])"
      ]
     },
     "execution_count": 17,
     "metadata": {},
     "output_type": "execute_result"
    }
   ],
   "source": [
    "karizdar.items()"
   ]
  },
  {
   "cell_type": "code",
   "execution_count": 19,
   "metadata": {},
   "outputs": [
    {
     "name": "stdout",
     "output_type": "stream",
     "text": [
      "('emil', 100) emil 100\n",
      "('aijan', 200) aijan 200\n",
      "('sultan', -700) sultan -700\n"
     ]
    }
   ],
   "source": [
    "for i in karizdar.items():\n",
    "    print(i, i[0], i[1])"
   ]
  },
  {
   "cell_type": "code",
   "execution_count": 21,
   "metadata": {},
   "outputs": [
    {
     "name": "stdout",
     "output_type": "stream",
     "text": [
      "emil\n",
      "aijan\n",
      "sultan\n"
     ]
    }
   ],
   "source": [
    "for i, j in karizdar.items():\n",
    "    print(i)"
   ]
  },
  {
   "cell_type": "code",
   "execution_count": 22,
   "metadata": {},
   "outputs": [],
   "source": [
    "a, b, c = 100, 200, 300"
   ]
  },
  {
   "cell_type": "code",
   "execution_count": 27,
   "metadata": {},
   "outputs": [],
   "source": [
    "s = Student('emil')"
   ]
  },
  {
   "cell_type": "code",
   "execution_count": 28,
   "metadata": {},
   "outputs": [],
   "source": [
    "class Test:\n",
    "    def __init__(self):\n",
    "        pass"
   ]
  },
  {
   "cell_type": "code",
   "execution_count": 30,
   "metadata": {},
   "outputs": [
    {
     "ename": "TypeError",
     "evalue": "Test.__init__() takes 1 positional argument but 2 were given",
     "output_type": "error",
     "traceback": [
      "\u001b[1;31m---------------------------------------------------------------------------\u001b[0m",
      "\u001b[1;31mTypeError\u001b[0m                                 Traceback (most recent call last)",
      "Cell \u001b[1;32mIn[30], line 1\u001b[0m\n\u001b[1;32m----> 1\u001b[0m t \u001b[38;5;241m=\u001b[39m \u001b[43mTest\u001b[49m\u001b[43m(\u001b[49m\u001b[38;5;124;43m'\u001b[39;49m\u001b[38;5;124;43memil\u001b[39;49m\u001b[38;5;124;43m'\u001b[39;49m\u001b[43m)\u001b[49m\n",
      "\u001b[1;31mTypeError\u001b[0m: Test.__init__() takes 1 positional argument but 2 were given"
     ]
    }
   ],
   "source": [
    "t = Test('emil')"
   ]
  },
  {
   "cell_type": "code",
   "execution_count": 31,
   "metadata": {},
   "outputs": [
    {
     "name": "stdout",
     "output_type": "stream",
     "text": [
      "{'aijan': <__main__.Student object at 0x000001C8B7D4AA90>, 'aydar': <__main__.Student object at 0x000001C8B80274D0>, 'aliya': <__main__.Student object at 0x000001C8B7DECA50>}\n"
     ]
    }
   ],
   "source": [
    "d = {}\n",
    "d['aijan'] = aijan\n",
    "d['aydar'] = aydar\n",
    "d['aliya'] = aliya\n",
    "print(d)"
   ]
  },
  {
   "cell_type": "code",
   "execution_count": 33,
   "metadata": {},
   "outputs": [
    {
     "name": "stdout",
     "output_type": "stream",
     "text": [
      "Imya studenta =  Aijan\n",
      "math 90\n",
      "history 95\n",
      "himya 50\n",
      "sredniy bal:  78\n",
      "**********\n",
      "Imya studenta =  Aydar\n",
      "math 80\n",
      "history 55\n",
      "himya 80\n",
      "geografia 60\n",
      "sredniy bal:  68\n",
      "**********\n",
      "Imya studenta =  Aliya\n",
      "math 80\n",
      "history 70\n",
      "himya 40\n",
      "kirgiz tili 100\n",
      "sredniy bal:  72\n",
      "**********\n"
     ]
    }
   ],
   "source": [
    "for imya, student in d.items():\n",
    "    student.pokajiOtsenki()"
   ]
  },
  {
   "cell_type": "code",
   "execution_count": 37,
   "metadata": {},
   "outputs": [
    {
     "name": "stdout",
     "output_type": "stream",
     "text": [
      "68\n",
      "Imya studenta =  Chonaydar\n",
      "math 80\n",
      "history 55\n",
      "himya 80\n",
      "geografia 60\n",
      "sredniy bal:  68\n",
      "**********\n"
     ]
    }
   ],
   "source": [
    "d[\"aydar\"].name = \"Chonaydar\"\n",
    "print(d['aydar'].sredniyBal2())\n",
    "d['aydar'].pokajiOtsenki()"
   ]
  },
  {
   "cell_type": "code",
   "execution_count": 43,
   "metadata": {},
   "outputs": [
    {
     "name": "stdout",
     "output_type": "stream",
     "text": [
      "aijan 78 {'math': 90, 'history': 95, 'himya': 50}\n",
      "aydar 68 {'math': 80, 'history': 55, 'himya': 80, 'geografia': 60}\n",
      "aliya 72 {'math': 80, 'history': 70, 'himya': 40, 'kirgiz tili': 100}\n",
      "sredniy bal:  72\n"
     ]
    }
   ],
   "source": [
    "s = 0\n",
    "for imya, student in d.items():\n",
    "    print(imya, student.sredniyBal1(), student.otsenki)\n",
    "    x = student.sredniyBal1()\n",
    "    s += x\n",
    "print('sredniy bal: ', s // len(d))"
   ]
  },
  {
   "cell_type": "code",
   "execution_count": 59,
   "metadata": {},
   "outputs": [],
   "source": [
    "class Client:\n",
    "    def __init__(self, tel):\n",
    "        self.name = None\n",
    "        self.tel = tel\n",
    "        self.adress = None\n",
    "        self.istoriya = [f'sozdali akount dlya {tel}']\n",
    "        self.balans = 0\n",
    "\n",
    "    def changeName(self, name):\n",
    "        self.name = name\n",
    "        self.istoriya.append(f'pomenyal imya na {name}')\n",
    "\n",
    "    def changeAdress(self, adress):\n",
    "        self.adress = adress\n",
    "        self.istoriya.append(f'pomenyal adress na {adress}')\n",
    "\n",
    "    def changeBalans(self, balans):\n",
    "        self.balans = balans\n",
    "        self.istoriya.append(f'izmenil balans na {balans}')\n",
    "\n",
    "\n",
    "class MBank:\n",
    "    def __init__(self):\n",
    "        self.klienti = {}\n",
    "    \n",
    "    def addKlient(self, tel):\n",
    "        self.klienti[tel] = Client(tel)\n",
    "    \n",
    "    def perevod(self, otkogo, komu, summa):\n",
    "        a = self.klienti[otkogo].balans\n",
    "        b = self.klienti[komu].balans\n",
    "\n",
    "        self.klienti[otkogo].changeBalans(a - summa)\n",
    "        self.klienti[komu].changeBalans(b + summa)\n",
    "\n",
    "    def pokajiIstoriyu(self):\n",
    "        for k, v in self.klienti.items():\n",
    "            print(k)\n",
    "            for i in v.istoriya:\n",
    "                print(i)\n",
    "            print('*'*20)\n",
    "\n"
   ]
  },
  {
   "cell_type": "code",
   "execution_count": 60,
   "metadata": {},
   "outputs": [],
   "source": [
    "b = MBank()\n",
    "b.addKlient('0777')\n",
    "b.addKlient('0555')\n",
    "b.addKlient('0999')\n",
    "b.addKlient('0666')\n",
    "\n",
    "b.klienti['0777'].changeName('Aijan')\n",
    "b.klienti['0777'].changeAdress('batken')\n",
    "b.klienti['0777'].changeBalans(1000)\n",
    "b.klienti['0999'].changeName('Aliya')\n",
    "b.klienti['0999'].changeBalans(5000)\n",
    "\n",
    "b.klienti['0666'].changeName('Aidar')\n",
    "b.klienti['0666'].changeBalans(2000)\n",
    "\n",
    "b.klienti['0555'].changeName('Timur')\n",
    "b.klienti['0555'].changeBalans(8000)\n",
    "\n",
    "\n",
    "b.perevod('0777', '0555', 100)\n",
    "b.perevod('0555', '0666', 200)\n",
    "b.perevod('0777', '0999', 500)\n"
   ]
  },
  {
   "cell_type": "code",
   "execution_count": 61,
   "metadata": {},
   "outputs": [
    {
     "name": "stdout",
     "output_type": "stream",
     "text": [
      "0777\n",
      "sozdali akount dlya 0777\n",
      "pomenyal imya na Aijan\n",
      "pomenyal adress na batken\n",
      "izmenil balans na 1000\n",
      "izmenil balans na 900\n",
      "izmenil balans na 400\n",
      "********************\n",
      "0555\n",
      "sozdali akount dlya 0555\n",
      "pomenyal imya na Timur\n",
      "izmenil balans na 8000\n",
      "izmenil balans na 8100\n",
      "izmenil balans na 7900\n",
      "********************\n",
      "0999\n",
      "sozdali akount dlya 0999\n",
      "pomenyal imya na Aliya\n",
      "izmenil balans na 5000\n",
      "izmenil balans na 5500\n",
      "********************\n",
      "0666\n",
      "sozdali akount dlya 0666\n",
      "pomenyal imya na Aidar\n",
      "izmenil balans na 2000\n",
      "izmenil balans na 2200\n",
      "********************\n"
     ]
    }
   ],
   "source": [
    "b.pokajiIstoriyu()"
   ]
  },
  {
   "cell_type": "code",
   "execution_count": 46,
   "metadata": {},
   "outputs": [
    {
     "name": "stdout",
     "output_type": "stream",
     "text": [
      "mendegi summa = {aijan}\n",
      "mendegi summa = 1000\n"
     ]
    }
   ],
   "source": [
    "aijan = 1000\n",
    "print('mendegi summa = {aijan}')\n",
    "print(f'mendegi summa = {aijan}')"
   ]
  },
  {
   "cell_type": "code",
   "execution_count": null,
   "metadata": {},
   "outputs": [],
   "source": []
  },
  {
   "cell_type": "code",
   "execution_count": null,
   "metadata": {},
   "outputs": [],
   "source": []
  }
 ],
 "metadata": {
  "kernelspec": {
   "display_name": "Python 3",
   "language": "python",
   "name": "python3"
  },
  "language_info": {
   "codemirror_mode": {
    "name": "ipython",
    "version": 3
   },
   "file_extension": ".py",
   "mimetype": "text/x-python",
   "name": "python",
   "nbconvert_exporter": "python",
   "pygments_lexer": "ipython3",
   "version": "3.11.9"
  }
 },
 "nbformat": 4,
 "nbformat_minor": 2
}
