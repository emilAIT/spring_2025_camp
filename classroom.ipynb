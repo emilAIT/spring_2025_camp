{
 "cells": [
  {
   "cell_type": "code",
   "execution_count": 5,
   "metadata": {},
   "outputs": [
    {
     "name": "stdout",
     "output_type": "stream",
     "text": [
      "1 <class 'int'>\n",
      "emil <class 'str'>\n",
      "True <class 'bool'>\n",
      "1.45 <class 'float'>\n"
     ]
    }
   ],
   "source": [
    "a = 1\n",
    "print(a, type(a))\n",
    "b = a\n",
    "\n",
    "a = \"emil\"\n",
    "print(a, type(a))\n",
    "a = True\n",
    "print(a, type(a))\n",
    "a = 1.45\n",
    "print(a, type(a))\n"
   ]
  },
  {
   "cell_type": "code",
   "execution_count": 10,
   "metadata": {},
   "outputs": [
    {
     "name": "stdout",
     "output_type": "stream",
     "text": [
      "[1, 2, 4] <class 'list'>\n",
      "[1, 2, 4]\n",
      "[8, 2, 4]\n",
      "[8, 2, 4]\n",
      "emil emil\n",
      "10 emil\n"
     ]
    }
   ],
   "source": [
    "a = [1, 2, 4]\n",
    "print(a, type(a))\n",
    "b = a\n",
    "print(b)\n",
    "a[0] = 8\n",
    "print(a)\n",
    "print(b)\n"
   ]
  },
  {
   "cell_type": "code",
   "execution_count": 11,
   "metadata": {},
   "outputs": [
    {
     "name": "stdout",
     "output_type": "stream",
     "text": [
      "emil emil\n",
      "10 emil\n"
     ]
    }
   ],
   "source": [
    "\n",
    "a = \"emil\"\n",
    "b = a\n",
    "print(a, b)\n",
    "a = 10\n",
    "print(a, b)\n"
   ]
  },
  {
   "cell_type": "code",
   "execution_count": 13,
   "metadata": {},
   "outputs": [
    {
     "name": "stdout",
     "output_type": "stream",
     "text": [
      "[1, 4, 9] [1, 4, 9]\n",
      "[1, 'emil', 9] [1, 4, 9]\n"
     ]
    }
   ],
   "source": [
    "a = [1, 4, 9]\n",
    "b = a.copy()\n",
    "print(a, b)\n",
    "a[1] = \"emil\"\n",
    "print(a, b)"
   ]
  },
  {
   "cell_type": "code",
   "execution_count": null,
   "metadata": {},
   "outputs": [],
   "source": [
    "a = [1000, 500, 300]"
   ]
  },
  {
   "cell_type": "code",
   "execution_count": 31,
   "metadata": {},
   "outputs": [
    {
     "name": "stdout",
     "output_type": "stream",
     "text": [
      "505 <class 'str'>\n",
      "505 <class 'int'>\n",
      "505505505505505\n",
      "2525\n"
     ]
    }
   ],
   "source": [
    "a = input(\"vedite sifru:\")\n",
    "print(a, type(a))\n",
    "b = int(a)\n",
    "print(b, type(b))\n",
    "print(a * 5)\n",
    "print(b * 5)\n"
   ]
  },
  {
   "cell_type": "code",
   "execution_count": 20,
   "metadata": {},
   "outputs": [
    {
     "name": "stdout",
     "output_type": "stream",
     "text": [
      "1 <class 'int'>\n",
      "1.0 <class 'float'>\n"
     ]
    }
   ],
   "source": [
    "a = 1\n",
    "print(a, type(a))\n",
    "b = float(a)\n",
    "print(b, type(b))"
   ]
  },
  {
   "cell_type": "code",
   "execution_count": 26,
   "metadata": {},
   "outputs": [
    {
     "ename": "ValueError",
     "evalue": "invalid literal for int() with base 10: '13a'",
     "output_type": "error",
     "traceback": [
      "\u001b[1;31m---------------------------------------------------------------------------\u001b[0m",
      "\u001b[1;31mValueError\u001b[0m                                Traceback (most recent call last)",
      "Cell \u001b[1;32mIn[26], line 2\u001b[0m\n\u001b[0;32m      1\u001b[0m a \u001b[38;5;241m=\u001b[39m \u001b[38;5;124m\"\u001b[39m\u001b[38;5;124m13a\u001b[39m\u001b[38;5;124m\"\u001b[39m\n\u001b[1;32m----> 2\u001b[0m b \u001b[38;5;241m=\u001b[39m \u001b[38;5;28;43mint\u001b[39;49m\u001b[43m(\u001b[49m\u001b[43ma\u001b[49m\u001b[43m)\u001b[49m\n\u001b[0;32m      3\u001b[0m \u001b[38;5;28mprint\u001b[39m(b \u001b[38;5;241m*\u001b[39m \u001b[38;5;241m10\u001b[39m)\n",
      "\u001b[1;31mValueError\u001b[0m: invalid literal for int() with base 10: '13a'"
     ]
    }
   ],
   "source": [
    "a = \"13a\"\n",
    "b = int(a)\n",
    "print(b * 10)"
   ]
  },
  {
   "cell_type": "code",
   "execution_count": 32,
   "metadata": {},
   "outputs": [
    {
     "name": "stdout",
     "output_type": "stream",
     "text": [
      "11\n"
     ]
    }
   ],
   "source": [
    "a = 10\n",
    "b = 20\n",
    "if a > b:\n",
    "    c = a * b \n",
    "else:\n",
    "    c = a + 1\n",
    "\n",
    "print(c)"
   ]
  },
  {
   "cell_type": "code",
   "execution_count": 3,
   "metadata": {},
   "outputs": [
    {
     "name": "stdout",
     "output_type": "stream",
     "text": [
      "altinay=500, aydar=1000, emil=300, timur=1500, ulan=600\n",
      "u emil (300) netu dostatochno summi  500\n",
      "emil->timur: 500\n",
      "altinay=500, aydar=1000, emil=300, timur=1500, ulan=600\n",
      "transaction status =  False\n"
     ]
    }
   ],
   "source": [
    "altinay = 500\n",
    "aydar = 1000\n",
    "emil = 300\n",
    "timur = 1500\n",
    "ulan = 600\n",
    "print(f'altinay={altinay}, aydar={aydar}, emil={emil}, timur={timur}, ulan={ulan}')\n",
    "\n",
    "otpravitel = input('Kto otpravitel: ')\n",
    "poluchatel = input(\"Kto poluchatel: \")\n",
    "summa = int(input(\"summa: \"))\n",
    "\n",
    "if otpravitel == 'altinay':\n",
    "    if altinay < summa:\n",
    "        print(f'u altinay ({altinay}) netu dostatochno summi ', summa)\n",
    "        transaksia = False\n",
    "    else:\n",
    "        altinay = altinay - summa\n",
    "        transaksia = True\n",
    "elif otpravitel == \"aydar\":\n",
    "    if aydar < summa:\n",
    "        transaksia = False\n",
    "        print(f'u aydar ({aydar}) netu dostatochno summi ', summa)\n",
    "    else:\n",
    "        aydar -= summa\n",
    "        transaksia = True\n",
    "elif otpravitel == \"emil\":\n",
    "    if emil < summa:\n",
    "        transaksia = False\n",
    "        print(f'u emil ({emil}) netu dostatochno summi ', summa)\n",
    "    else:\n",
    "        emil -= summa\n",
    "        transaksia = True\n",
    "elif otpravitel == \"timur\":\n",
    "    if timur < summa:\n",
    "        transaksia = False\n",
    "        print(f'u timur ({timur}) netu dostatochno summi ', summa)\n",
    "    else:\n",
    "        timur -= summa\n",
    "        transaksia = True\n",
    "elif otpravitel == \"ulan\":\n",
    "    if ulan < summa:\n",
    "        transaksia = False\n",
    "        print(f'u ulan ({ulan}) netu dostatochno summi ', summa)\n",
    "    else:\n",
    "        ulan -= summa\n",
    "        transaksia = True\n",
    "else:\n",
    "    transaksia = False\n",
    "    print(otpravitel, \" netu takogo klienta dlya otpravitelya\")\n",
    "\n",
    "if transaksia == True:\n",
    "    if poluchatel == 'altinay':\n",
    "        altinay = altinay + summa\n",
    "    elif poluchatel == \"aydar\":\n",
    "        aydar += summa\n",
    "    elif poluchatel == \"emil\":\n",
    "        emil += summa\n",
    "    elif poluchatel == \"timur\":\n",
    "        timur += summa\n",
    "    elif poluchatel == \"ulan\":\n",
    "        ulan += summa\n",
    "    else:\n",
    "        print(poluchatel, \" netu takogo klienta dlya poluchatelya\")\n",
    "\n",
    "print(f'{otpravitel}->{poluchatel}: {summa}')\n",
    "print(f'altinay={altinay}, aydar={aydar}, emil={emil}, timur={timur}, ulan={ulan}')\n",
    "print('transaction status = ', transaksia)"
   ]
  },
  {
   "cell_type": "code",
   "execution_count": 36,
   "metadata": {},
   "outputs": [
    {
     "data": {
      "text/plain": [
       "1000"
      ]
     },
     "execution_count": 36,
     "metadata": {},
     "output_type": "execute_result"
    }
   ],
   "source": [
    "1500 - int(\"500\")"
   ]
  },
  {
   "cell_type": "code",
   "execution_count": null,
   "metadata": {},
   "outputs": [],
   "source": []
  }
 ],
 "metadata": {
  "kernelspec": {
   "display_name": "Python 3",
   "language": "python",
   "name": "python3"
  },
  "language_info": {
   "codemirror_mode": {
    "name": "ipython",
    "version": 3
   },
   "file_extension": ".py",
   "mimetype": "text/x-python",
   "name": "python",
   "nbconvert_exporter": "python",
   "pygments_lexer": "ipython3",
   "version": "3.11.9"
  }
 },
 "nbformat": 4,
 "nbformat_minor": 2
}
