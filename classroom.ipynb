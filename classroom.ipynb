{
 "cells": [
  {
   "cell_type": "code",
   "execution_count": 5,
   "metadata": {},
   "outputs": [
    {
     "name": "stdout",
     "output_type": "stream",
     "text": [
      "1 <class 'int'>\n",
      "emil <class 'str'>\n",
      "True <class 'bool'>\n",
      "1.45 <class 'float'>\n"
     ]
    }
   ],
   "source": [
    "a = 1\n",
    "print(a, type(a))\n",
    "b = a\n",
    "\n",
    "a = \"emil\"\n",
    "print(a, type(a))\n",
    "a = True\n",
    "print(a, type(a))\n",
    "a = 1.45\n",
    "print(a, type(a))\n"
   ]
  },
  {
   "cell_type": "code",
   "execution_count": 10,
   "metadata": {},
   "outputs": [
    {
     "name": "stdout",
     "output_type": "stream",
     "text": [
      "[1, 2, 4] <class 'list'>\n",
      "[1, 2, 4]\n",
      "[8, 2, 4]\n",
      "[8, 2, 4]\n",
      "emil emil\n",
      "10 emil\n"
     ]
    }
   ],
   "source": [
    "a = [1, 2, 4]\n",
    "print(a, type(a))\n",
    "b = a\n",
    "print(b)\n",
    "a[0] = 8\n",
    "print(a)\n",
    "print(b)\n"
   ]
  },
  {
   "cell_type": "code",
   "execution_count": 11,
   "metadata": {},
   "outputs": [
    {
     "name": "stdout",
     "output_type": "stream",
     "text": [
      "emil emil\n",
      "10 emil\n"
     ]
    }
   ],
   "source": [
    "\n",
    "a = \"emil\"\n",
    "b = a\n",
    "print(a, b)\n",
    "a = 10\n",
    "print(a, b)\n"
   ]
  },
  {
   "cell_type": "code",
   "execution_count": 13,
   "metadata": {},
   "outputs": [
    {
     "name": "stdout",
     "output_type": "stream",
     "text": [
      "[1, 4, 9] [1, 4, 9]\n",
      "[1, 'emil', 9] [1, 4, 9]\n"
     ]
    }
   ],
   "source": [
    "a = [1, 4, 9]\n",
    "b = a.copy()\n",
    "print(a, b)\n",
    "a[1] = \"emil\"\n",
    "print(a, b)"
   ]
  },
  {
   "cell_type": "code",
   "execution_count": null,
   "metadata": {},
   "outputs": [],
   "source": [
    "a = [1000, 500, 300]"
   ]
  },
  {
   "cell_type": "code",
   "execution_count": 31,
   "metadata": {},
   "outputs": [
    {
     "name": "stdout",
     "output_type": "stream",
     "text": [
      "505 <class 'str'>\n",
      "505 <class 'int'>\n",
      "505505505505505\n",
      "2525\n"
     ]
    }
   ],
   "source": [
    "a = input(\"vedite sifru:\")\n",
    "print(a, type(a))\n",
    "b = int(a)\n",
    "print(b, type(b))\n",
    "print(a * 5)\n",
    "print(b * 5)\n"
   ]
  },
  {
   "cell_type": "code",
   "execution_count": 20,
   "metadata": {},
   "outputs": [
    {
     "name": "stdout",
     "output_type": "stream",
     "text": [
      "1 <class 'int'>\n",
      "1.0 <class 'float'>\n"
     ]
    }
   ],
   "source": [
    "a = 1\n",
    "print(a, type(a))\n",
    "b = float(a)\n",
    "print(b, type(b))"
   ]
  },
  {
   "cell_type": "code",
   "execution_count": 26,
   "metadata": {},
   "outputs": [
    {
     "ename": "ValueError",
     "evalue": "invalid literal for int() with base 10: '13a'",
     "output_type": "error",
     "traceback": [
      "\u001b[1;31m---------------------------------------------------------------------------\u001b[0m",
      "\u001b[1;31mValueError\u001b[0m                                Traceback (most recent call last)",
      "Cell \u001b[1;32mIn[26], line 2\u001b[0m\n\u001b[0;32m      1\u001b[0m a \u001b[38;5;241m=\u001b[39m \u001b[38;5;124m\"\u001b[39m\u001b[38;5;124m13a\u001b[39m\u001b[38;5;124m\"\u001b[39m\n\u001b[1;32m----> 2\u001b[0m b \u001b[38;5;241m=\u001b[39m \u001b[38;5;28;43mint\u001b[39;49m\u001b[43m(\u001b[49m\u001b[43ma\u001b[49m\u001b[43m)\u001b[49m\n\u001b[0;32m      3\u001b[0m \u001b[38;5;28mprint\u001b[39m(b \u001b[38;5;241m*\u001b[39m \u001b[38;5;241m10\u001b[39m)\n",
      "\u001b[1;31mValueError\u001b[0m: invalid literal for int() with base 10: '13a'"
     ]
    }
   ],
   "source": [
    "a = \"13a\"\n",
    "b = int(a)\n",
    "print(b * 10)"
   ]
  },
  {
   "cell_type": "code",
   "execution_count": 32,
   "metadata": {},
   "outputs": [
    {
     "name": "stdout",
     "output_type": "stream",
     "text": [
      "11\n"
     ]
    }
   ],
   "source": [
    "a = 10\n",
    "b = 20\n",
    "if a > b:\n",
    "    c = a * b \n",
    "else:\n",
    "    c = a + 1\n",
    "\n",
    "print(c)"
   ]
  },
  {
   "cell_type": "code",
   "execution_count": null,
   "metadata": {},
   "outputs": [
    {
     "name": "stdout",
     "output_type": "stream",
     "text": [
      "altinay=500, aydar=1000, emil=300, timur=1500, ulan=600\n",
      "u emil (300) netu dostatochno summi  500\n",
      "emil->timur: 500\n",
      "altinay=500, aydar=1000, emil=300, timur=1500, ulan=600\n",
      "transaction status =  False\n"
     ]
    }
   ],
   "source": [
    "sredniy = 500\n",
    "aydar = 1000\n",
    "emil = 300\n",
    "timur = 1500\n",
    "ulan = 600\n",
    "print(f'altinay={sredniy}, aydar={aydar}, emil={emil}, timur={timur}, ulan={ulan}')\n",
    "\n",
    "otpravitel = input('Kto otpravitel: ')\n",
    "poluchatel = input(\"Kto poluchatel: \")\n",
    "summa = int(input(\"summa: \"))\n",
    "\n",
    "if otpravitel == 'altinay':\n",
    "    if sredniy < summa:\n",
    "        print(f'u altinay ({sredniy}) netu dostatochno summi ', summa)\n",
    "        transaksia = False\n",
    "    else:\n",
    "        sredniy = sredniy - summa\n",
    "        transaksia = True\n",
    "elif otpravitel == \"aydar\":\n",
    "    if aydar < summa:\n",
    "        transaksia = False\n",
    "        print(f'u aydar ({aydar}) netu dostatochno summi ', summa)\n",
    "    else:\n",
    "        aydar -= summa\n",
    "        transaksia = True\n",
    "elif otpravitel == \"emil\":\n",
    "    if emil < summa:\n",
    "        transaksia = False\n",
    "        print(f'u emil ({emil}) netu dostatochno summi ', summa)\n",
    "    else:\n",
    "        emil -= summa\n",
    "        transaksia = True\n",
    "elif otpravitel == \"timur\":\n",
    "    if timur < summa:\n",
    "        transaksia = False\n",
    "        print(f'u timur ({timur}) netu dostatochno summi ', summa)\n",
    "    else:\n",
    "        timur -= summa\n",
    "        transaksia = True\n",
    "elif otpravitel == \"ulan\":\n",
    "    if ulan < summa:\n",
    "        transaksia = False\n",
    "        print(f'u ulan ({ulan}) netu dostatochno summi ', summa)\n",
    "    else:\n",
    "        ulan -= summa\n",
    "        transaksia = True\n",
    "else:\n",
    "    transaksia = False\n",
    "    print(otpravitel, \" netu takogo klienta dlya otpravitelya\")\n",
    "\n",
    "if transaksia == True:\n",
    "    if poluchatel == 'altinay':\n",
    "        sredniy = sredniy + summa\n",
    "    elif poluchatel == \"aydar\":\n",
    "        aydar += summa\n",
    "    elif poluchatel == \"emil\":\n",
    "        emil += summa\n",
    "    elif poluchatel == \"timur\":\n",
    "        timur += summa\n",
    "    elif poluchatel == \"ulan\":\n",
    "        ulan += summa\n",
    "    else:\n",
    "        print(poluchatel, \" netu takogo klienta dlya poluchatelya\")\n",
    "\n",
    "print(f'{otpravitel}->{poluchatel}: {summa}')\n",
    "print(f'altinay={sredniy}, aydar={aydar}, emil={emil}, timur={timur}, ulan={ulan}')\n",
    "print('transaction status = ', transaksia)"
   ]
  },
  {
   "cell_type": "code",
   "execution_count": 36,
   "metadata": {},
   "outputs": [
    {
     "data": {
      "text/plain": [
       "1000"
      ]
     },
     "execution_count": 36,
     "metadata": {},
     "output_type": "execute_result"
    }
   ],
   "source": [
    "1500 - int(\"500\")"
   ]
  },
  {
   "cell_type": "code",
   "execution_count": null,
   "metadata": {},
   "outputs": [],
   "source": []
  },
  {
   "cell_type": "markdown",
   "metadata": {},
   "source": [
    "## 15.02.2025"
   ]
  },
  {
   "cell_type": "code",
   "execution_count": null,
   "metadata": {},
   "outputs": [
    {
     "name": "stdout",
     "output_type": "stream",
     "text": [
      "altinay=4800, aydar=1000, emil=300, timur=1500, ulan=600\n"
     ]
    }
   ],
   "source": [
    "sredniy = 500\n",
    "aydar = 1000\n",
    "emil = 300\n",
    "timur = 1500\n",
    "ulan = 600\n",
    "print(f'altinay={sredniy*10-200}, aydar={aydar}, emil={emil}, timur={timur}, ulan={ulan}')"
   ]
  },
  {
   "cell_type": "code",
   "execution_count": 5,
   "metadata": {},
   "outputs": [
    {
     "name": "stdout",
     "output_type": "stream",
     "text": [
      "60 70 90 65 85\n"
     ]
    }
   ],
   "source": [
    "e1_1 = 60\n",
    "e1_2 = 70\n",
    "e1_3 = 90\n",
    "f1 = 65\n",
    "p1 = 85\n",
    "\n",
    "print(e1_1, e1_2, e1_3, f1, p1)"
   ]
  },
  {
   "cell_type": "code",
   "execution_count": 7,
   "metadata": {},
   "outputs": [
    {
     "name": "stdout",
     "output_type": "stream",
     "text": [
      "60 70 90 65 85\n"
     ]
    }
   ],
   "source": [
    "e1_1, e1_2, e1_3, f1, p1 = 60, 70, 90, 65, 85\n",
    "print(e1_1, e1_2, e1_3, f1, p1)"
   ]
  },
  {
   "cell_type": "code",
   "execution_count": 8,
   "metadata": {},
   "outputs": [
    {
     "ename": "TypeError",
     "evalue": "cannot unpack non-iterable int object",
     "output_type": "error",
     "traceback": [
      "\u001b[1;31m---------------------------------------------------------------------------\u001b[0m",
      "\u001b[1;31mTypeError\u001b[0m                                 Traceback (most recent call last)",
      "Cell \u001b[1;32mIn[8], line 1\u001b[0m\n\u001b[1;32m----> 1\u001b[0m a, b \u001b[38;5;241m=\u001b[39m \u001b[38;5;241m10\u001b[39m\n",
      "\u001b[1;31mTypeError\u001b[0m: cannot unpack non-iterable int object"
     ]
    }
   ],
   "source": [
    "a, b = 10"
   ]
  },
  {
   "cell_type": "code",
   "execution_count": 9,
   "metadata": {},
   "outputs": [
    {
     "ename": "ValueError",
     "evalue": "too many values to unpack (expected 2)",
     "output_type": "error",
     "traceback": [
      "\u001b[1;31m---------------------------------------------------------------------------\u001b[0m",
      "\u001b[1;31mValueError\u001b[0m                                Traceback (most recent call last)",
      "Cell \u001b[1;32mIn[9], line 1\u001b[0m\n\u001b[1;32m----> 1\u001b[0m a, b \u001b[38;5;241m=\u001b[39m \u001b[38;5;241m1\u001b[39m, \u001b[38;5;241m2\u001b[39m, \u001b[38;5;241m3\u001b[39m\n",
      "\u001b[1;31mValueError\u001b[0m: too many values to unpack (expected 2)"
     ]
    }
   ],
   "source": [
    "a, b = 1, 2, 3"
   ]
  },
  {
   "cell_type": "code",
   "execution_count": 36,
   "metadata": {},
   "outputs": [
    {
     "name": "stdout",
     "output_type": "stream",
     "text": [
      "aydar= 76.25 otsentka=4\n"
     ]
    }
   ],
   "source": [
    "e1_1, e1_2, e1_3, f1, p1 = 90, 90, 95, 100, 0\n",
    "aydar = (e1_1 + e1_2 + e1_3)/3 * 0.45  + f1 * 0.35 + p1 * 0.2\n",
    "\n",
    "print('aydar=', aydar, \"otsentka=\", end='')\n",
    "if 0 <= aydar < 40:\n",
    "    print(2)\n",
    "elif 40 <= aydar < 50:\n",
    "    print(\"3-\")\n",
    "elif 50 <= aydar < 60:\n",
    "    print(\"3\")\n",
    "elif 60 <= aydar < 70:\n",
    "    print(\"4-\")\n",
    "elif 70 <= aydar < 80:\n",
    "    print(\"4\")\n",
    "elif 80 <= aydar < 90:\n",
    "    print(\"5-\")\n",
    "elif 90 <= aydar <= 100:\n",
    "    print(\"5\")\n",
    "else:\n",
    "    print('oshibka')"
   ]
  },
  {
   "cell_type": "code",
   "execution_count": null,
   "metadata": {},
   "outputs": [
    {
     "name": "stdout",
     "output_type": "stream",
     "text": [
      "altinay= 72.75 otsentka=4\n"
     ]
    }
   ],
   "source": [
    "\n",
    "\n",
    "e1_1, e1_2, e1_3, f1, p1 = 60, 70, 90, 65, 85\n",
    "sredniy = (e1_1 + e1_2 + e1_3)/3 * 0.45  + f1 * 0.35 + p1 * 0.2\n",
    "\n",
    "print('altinay=', sredniy, \"otsentka=\", end='')\n",
    "if 0 <= sredniy < 40:\n",
    "    print(2)\n",
    "elif 40 <= sredniy < 50:\n",
    "    print(\"3-\")\n",
    "elif 50 <= sredniy < 60:\n",
    "    print(\"3\")\n",
    "elif 60 <= sredniy < 70:\n",
    "    print(\"4-\")\n",
    "elif 70 <= sredniy < 80:\n",
    "    print(\"4\")\n",
    "elif 80 <= sredniy < 90:\n",
    "    print(\"5-\")\n",
    "elif 90 <= sredniy <= 100:\n",
    "    print(\"5\")\n",
    "else:\n",
    "    print('oshibka')"
   ]
  },
  {
   "cell_type": "code",
   "execution_count": 27,
   "metadata": {},
   "outputs": [
    {
     "name": "stdout",
     "output_type": "stream",
     "text": [
      "horosho\n"
     ]
    }
   ],
   "source": [
    "a = 0\n",
    "\n",
    "if 0 <= a <= 20:\n",
    "    print('horosho')\n",
    "else:\n",
    "    print('ploho')\n"
   ]
  },
  {
   "cell_type": "code",
   "execution_count": 52,
   "metadata": {},
   "outputs": [],
   "source": [
    "def bishkek(osh):\n",
    "    talas = 3 * osh **2 + 4 * osh + 25\n"
   ]
  },
  {
   "cell_type": "code",
   "execution_count": 51,
   "metadata": {},
   "outputs": [
    {
     "name": "stdout",
     "output_type": "stream",
     "text": [
      "25\n",
      "32\n",
      "45\n",
      "64\n",
      "89\n"
     ]
    }
   ],
   "source": [
    "x = 0\n",
    "print(3 * x ** 2 + 4 * x  + 25)\n",
    "x = 1\n",
    "print(3 * x **2 + 4 * x + 25)\n",
    "x = 2\n",
    "print(3 * x ** 2 + 4 * x + 25)\n",
    "x = 3\n",
    "print(3 * x ** 2+ 4 * x + 25)\n",
    "x = 4\n",
    "print(3 * x **2 + 4 * x  + 25)"
   ]
  },
  {
   "cell_type": "code",
   "execution_count": 53,
   "metadata": {},
   "outputs": [
    {
     "name": "stdout",
     "output_type": "stream",
     "text": [
      "None\n",
      "None\n",
      "None\n",
      "None\n",
      "None\n"
     ]
    }
   ],
   "source": [
    "print(bishkek(0))\n",
    "print(bishkek(1))\n",
    "print(bishkek(2))\n",
    "print(bishkek(3))\n",
    "print(bishkek(4))"
   ]
  },
  {
   "cell_type": "code",
   "execution_count": 58,
   "metadata": {},
   "outputs": [],
   "source": [
    "def obmenka(dollar):\n",
    "    som = dollar * 87.45"
   ]
  },
  {
   "cell_type": "code",
   "execution_count": null,
   "metadata": {},
   "outputs": [],
   "source": [
    "\n",
    "obmenka(1500)"
   ]
  },
  {
   "cell_type": "code",
   "execution_count": 64,
   "metadata": {},
   "outputs": [],
   "source": [
    "dollar_pokupka = 84.7\n",
    "dollar_prodaja = 85.0\n",
    "\n",
    "rubl_pokupka = 0.90\n",
    "rubl_prodaja = 1.06\n",
    "\n",
    "euro_pokupka = 91\n",
    "euro_prodaja = 93\n",
    "\n",
    "def somToDollar(amount):\n",
    "    return amount / dollar_prodaja\n",
    "\n",
    "def dollarToSom(amount):\n",
    "    return amount * dollar_pokupka\n",
    "\n",
    "def somToEuro(amount):\n",
    "    return amount / euro_prodaja\n",
    "\n",
    "def euroToSom(amount):\n",
    "    return amount * euro_pokupka\n",
    "\n",
    "def rublToSom(amount):\n",
    "    return amount * rubl_pokupka\n",
    "\n",
    "def somToRubl(amount):\n",
    "    return amount / rubl_prodaja\n"
   ]
  },
  {
   "cell_type": "code",
   "execution_count": 68,
   "metadata": {},
   "outputs": [
    {
     "data": {
      "text/plain": [
       "943.3962264150942"
      ]
     },
     "execution_count": 68,
     "metadata": {},
     "output_type": "execute_result"
    }
   ],
   "source": [
    "somToRubl(1000)"
   ]
  },
  {
   "cell_type": "code",
   "execution_count": 69,
   "metadata": {},
   "outputs": [
    {
     "name": "stdout",
     "output_type": "stream",
     "text": [
      "1000 900.0 10.588235294117647\n"
     ]
    }
   ],
   "source": [
    "som = rublToSom(1000)\n",
    "dollar = somToDollar(som)\n",
    "print(1000, som, dollar)"
   ]
  },
  {
   "cell_type": "code",
   "execution_count": 70,
   "metadata": {},
   "outputs": [
    {
     "data": {
      "text/plain": [
       "10.588235294117647"
      ]
     },
     "execution_count": 70,
     "metadata": {},
     "output_type": "execute_result"
    }
   ],
   "source": [
    "somToDollar(rublToSom(1000))"
   ]
  },
  {
   "cell_type": "code",
   "execution_count": 72,
   "metadata": {},
   "outputs": [
    {
     "name": "stdout",
     "output_type": "stream",
     "text": [
      "79905.66037735848\n"
     ]
    }
   ],
   "source": [
    "som = dollarToSom(1000)\n",
    "rubl = somToRubl(som)\n",
    "print(rubl)"
   ]
  },
  {
   "cell_type": "code",
   "execution_count": 73,
   "metadata": {},
   "outputs": [
    {
     "data": {
      "text/plain": [
       "79905.66037735848"
      ]
     },
     "execution_count": 73,
     "metadata": {},
     "output_type": "execute_result"
    }
   ],
   "source": [
    "somToRubl(dollarToSom(1000))"
   ]
  },
  {
   "cell_type": "code",
   "execution_count": 74,
   "metadata": {},
   "outputs": [
    {
     "data": {
      "text/plain": [
       "799056.6037735848"
      ]
     },
     "execution_count": 74,
     "metadata": {},
     "output_type": "execute_result"
    }
   ],
   "source": [
    "skolko = 10000\n",
    "somToRubl(dollarToSom(skolko))"
   ]
  },
  {
   "cell_type": "code",
   "execution_count": 100,
   "metadata": {},
   "outputs": [],
   "source": [
    "\n",
    "def studentGrade1(e1_1, e1_2, e1_3, f1, p1):\n",
    "    sredniy = (e1_1 + e1_2 + e1_3)/3 * 0.45  + f1 * 0.35 + p1 * 0.2\n",
    "    \n",
    "    if 0 <= sredniy < 40:\n",
    "        return 2, sredniy, (e1_1 + e1_2 + e1_3)/3\n",
    "    elif 40 <= sredniy < 50:\n",
    "        return \"3-\", sredniy, (e1_1 + e1_2 + e1_3)/3\n",
    "    elif 50 <= sredniy < 60:\n",
    "        return \"3\", sredniy, (e1_1 + e1_2 + e1_3)/3\n",
    "    elif 60 <= sredniy < 70:\n",
    "        return \"4-\", sredniy, (e1_1 + e1_2 + e1_3)/3\n",
    "    elif 70 <= sredniy < 80:\n",
    "        return \"4\", sredniy, (e1_1 + e1_2 + e1_3)/3\n",
    "    elif 80 <= sredniy < 90:\n",
    "        return \"5-\", sredniy, (e1_1 + e1_2 + e1_3)/3\n",
    "    elif 90 <= sredniy <= 100:\n",
    "        return \"5\", sredniy, (e1_1 + e1_2 + e1_3)/3\n",
    "    else:\n",
    "        return 'oshibka'"
   ]
  },
  {
   "cell_type": "code",
   "execution_count": 101,
   "metadata": {},
   "outputs": [
    {
     "data": {
      "text/plain": [
       "('4', 79.95, 71.66666666666667, 28.7)"
      ]
     },
     "execution_count": 101,
     "metadata": {},
     "output_type": "execute_result"
    }
   ],
   "source": [
    "studentGrade(70, 90, 55, 82, 95)"
   ]
  },
  {
   "cell_type": "code",
   "execution_count": 102,
   "metadata": {},
   "outputs": [
    {
     "data": {
      "text/plain": [
       "71.66666666666667"
      ]
     },
     "execution_count": 102,
     "metadata": {},
     "output_type": "execute_result"
    }
   ],
   "source": [
    "(70 + 90 + 55) / 3"
   ]
  },
  {
   "cell_type": "code",
   "execution_count": 106,
   "metadata": {},
   "outputs": [],
   "source": [
    "\n",
    "def studentGrade2(exam1, exam2, exam3, final, project):\n",
    "    sredniy = (exam1+exam2+exam3)/3 * 0.45  + final * 0.35 + project * 0.2\n",
    "    \n",
    "    otsenka = 0\n",
    "    if 0 <= sredniy < 40:\n",
    "        otsenka = 2\n",
    "    elif 40 <= sredniy < 50:\n",
    "        otsenka = \"3-\"\n",
    "    elif 50 <= sredniy < 60:\n",
    "        otsenka = \"3\"\n",
    "    elif 60 <= sredniy < 70:\n",
    "        otsenka = \"4-\"\n",
    "    elif 70 <= sredniy < 80:\n",
    "        otsenka = \"4\"\n",
    "    elif 80 <= sredniy < 90:\n",
    "        otsenka = \"5-\"\n",
    "    elif 90 <= sredniy <= 100:\n",
    "        otsenka = \"5\"\n",
    "    else:\n",
    "        return 'oshibka'\n",
    "\n",
    "    return otsenka"
   ]
  },
  {
   "cell_type": "code",
   "execution_count": null,
   "metadata": {},
   "outputs": [
    {
     "name": "stdout",
     "output_type": "stream",
     "text": [
      "4\n",
      "('4', 79.95, 71.66666666666667)\n"
     ]
    }
   ],
   "source": [
    "print(studentGrade2(70, 90, 55, 82, 95))\n",
    "print(studentGrade1(70, 90, 55, 82, 95))\n",
    "\n"
   ]
  },
  {
   "cell_type": "code",
   "execution_count": 83,
   "metadata": {},
   "outputs": [],
   "source": [
    "def f(x):\n",
    "    # 3 * x ** 2 + 4 * x + 44\n",
    "    kvadrat = 3 * x**2\n",
    "    vtoroy = 4 * x\n",
    "    konstanta = 44\n",
    "    return kvadrat + vtoroy + konstanta, kvadrat, vtoroy, konstanta"
   ]
  },
  {
   "cell_type": "code",
   "execution_count": 109,
   "metadata": {},
   "outputs": [
    {
     "name": "stdout",
     "output_type": "stream",
     "text": [
      "48 16 44\n",
      "108 108\n"
     ]
    }
   ],
   "source": [
    "a, b, c, d = f(x=4)\n",
    "print(b, c, d)\n",
    "print(a, b+c+d)"
   ]
  },
  {
   "cell_type": "code",
   "execution_count": 108,
   "metadata": {},
   "outputs": [
    {
     "data": {
      "text/plain": [
       "(384, 300, 40, 44)"
      ]
     },
     "execution_count": 108,
     "metadata": {},
     "output_type": "execute_result"
    }
   ],
   "source": [
    "f(x=10)"
   ]
  },
  {
   "cell_type": "code",
   "execution_count": 113,
   "metadata": {},
   "outputs": [],
   "source": [
    "def emil(a, b, c):\n",
    "    return a/b/c"
   ]
  },
  {
   "cell_type": "code",
   "execution_count": 114,
   "metadata": {},
   "outputs": [
    {
     "data": {
      "text/plain": [
       "0.016666666666666666"
      ]
     },
     "execution_count": 114,
     "metadata": {},
     "output_type": "execute_result"
    }
   ],
   "source": [
    "emil(10, 20,30)"
   ]
  },
  {
   "cell_type": "code",
   "execution_count": 116,
   "metadata": {},
   "outputs": [
    {
     "data": {
      "text/plain": [
       "0.016666666666666666"
      ]
     },
     "execution_count": 116,
     "metadata": {},
     "output_type": "execute_result"
    }
   ],
   "source": [
    "emil(b = 20, a = 10, c = 30)"
   ]
  },
  {
   "cell_type": "code",
   "execution_count": 125,
   "metadata": {},
   "outputs": [
    {
     "name": "stdout",
     "output_type": "stream",
     "text": [
      "{'emil': 1000, 'timur': 2000, 'sultan': 3000, 'aziz': 1800}\n",
      "{'emil': 1000, 'timur': 2000, 'sultan': 3000, 'aziz': 1800, '01': 'ait'}\n",
      "{'timur': 2000, 'sultan': 3000, 'aziz': 1800, '01': 'ait'}\n"
     ]
    }
   ],
   "source": [
    "d = {\"emil\": 1000, \"timur\": 2000, \"sultan\": 3000, \"aziz\": 1800}\n",
    "print(d)\n",
    "d[\"01\"] = \"ait\"\n",
    "print(d)\n",
    "del d[\"emil\"]\n",
    "print(d)"
   ]
  },
  {
   "cell_type": "code",
   "execution_count": 128,
   "metadata": {},
   "outputs": [
    {
     "name": "stdout",
     "output_type": "stream",
     "text": [
      "{'emil': 1000, 'timur': 2000, 'sultan': 3000, 'aziz': 1800}\n",
      "{'emil': 1000, 'timur': 1800, 'sultan': 3200, 'aziz': 1800}\n",
      "{'emil': 1000, 'timur': 1800, 'sultan': 3200, 'aziz': 1800, 'aydar': 1500}\n"
     ]
    }
   ],
   "source": [
    "\n",
    "d = {\"emil\": 1000, \"timur\": 2000, \"sultan\": 3000, \"aziz\": 1800}\n",
    "print(d)\n",
    "kto = input(\"kto\")\n",
    "komu = input(\"komu\")\n",
    "skolko = int(input(\"skolko\"))\n",
    "\n",
    "d[kto] -= skolko\n",
    "d[komu] += skolko\n",
    "print(d)\n",
    "\n",
    "d[\"aydar\"] = 1500\n",
    "print(d)"
   ]
  },
  {
   "cell_type": "code",
   "execution_count": 132,
   "metadata": {},
   "outputs": [],
   "source": [
    "d = {}\n",
    "\n",
    "def transfer(kto, komu, skolko):\n",
    "    d[kto] -= skolko\n",
    "    d[komu] += skolko\n",
    "    return d\n",
    "\n",
    "def add(kto, balance):\n",
    "    d[kto] = balance\n",
    "    return d"
   ]
  },
  {
   "cell_type": "code",
   "execution_count": 133,
   "metadata": {},
   "outputs": [
    {
     "name": "stdout",
     "output_type": "stream",
     "text": [
      "{'emil': 1000}\n",
      "{'emil': 1000, 'sultan': 1500}\n",
      "{'emil': 1000, 'sultan': 1500, 'aziz': 2000}\n",
      "{'emil': 500, 'sultan': 2000, 'aziz': 2000}\n"
     ]
    }
   ],
   "source": [
    "add(\"emil\", 1000)\n",
    "print(d)\n",
    "add(\"sultan\", 1500)\n",
    "print(d)\n",
    "add(\"aziz\", 2000)\n",
    "\n",
    "print(d)\n",
    "\n",
    "transfer(\"emil\", \"sultan\", 500)\n",
    "print(d)"
   ]
  },
  {
   "cell_type": "code",
   "execution_count": 135,
   "metadata": {},
   "outputs": [
    {
     "name": "stdout",
     "output_type": "stream",
     "text": [
      "{'emil': 500, 'sultan': 400, 'aziz': 3600}\n"
     ]
    }
   ],
   "source": [
    "transfer(kto=\"sultan\", komu='aziz', skolko=800)\n",
    "print(d)"
   ]
  },
  {
   "cell_type": "code",
   "execution_count": null,
   "metadata": {},
   "outputs": [],
   "source": []
  }
 ],
 "metadata": {
  "kernelspec": {
   "display_name": "Python 3",
   "language": "python",
   "name": "python3"
  },
  "language_info": {
   "codemirror_mode": {
    "name": "ipython",
    "version": 3
   },
   "file_extension": ".py",
   "mimetype": "text/x-python",
   "name": "python",
   "nbconvert_exporter": "python",
   "pygments_lexer": "ipython3",
   "version": "3.11.9"
  }
 },
 "nbformat": 4,
 "nbformat_minor": 2
}
